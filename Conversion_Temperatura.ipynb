{
  "nbformat": 4,
  "nbformat_minor": 0,
  "metadata": {
    "colab": {
      "provenance": [],
      "authorship_tag": "ABX9TyNrO6NEGuWLjKRfpP1Detd7",
      "include_colab_link": true
    },
    "kernelspec": {
      "name": "python3",
      "display_name": "Python 3"
    },
    "language_info": {
      "name": "python"
    }
  },
  "cells": [
    {
      "cell_type": "markdown",
      "metadata": {
        "id": "view-in-github",
        "colab_type": "text"
      },
      "source": [
        "<a href=\"https://colab.research.google.com/github/Scantillo10/Scantillo10/blob/main/Conversion_Temperatura.ipynb\" target=\"_parent\"><img src=\"https://colab.research.google.com/assets/colab-badge.svg\" alt=\"Open In Colab\"/></a>"
      ]
    },
    {
      "cell_type": "code",
      "execution_count": 1,
      "metadata": {
        "colab": {
          "base_uri": "https://localhost:8080/"
        },
        "id": "pTWRg-ujY-8s",
        "outputId": "354b58dd-5060-431e-faf2-0102fa13f979"
      },
      "outputs": [
        {
          "output_type": "stream",
          "name": "stdout",
          "text": [
            "100.5 grados Fahrenheit es 38.06 grados centigrados \n"
          ]
        }
      ],
      "source": [
        "# Solución\n",
        "cent=round(5/9*(100.5-32),2)\n",
        "print(f\"100.5 grados Fahrenheit es {cent} grados centigrados \")"
      ]
    }
  ]
}